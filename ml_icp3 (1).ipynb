{
  "nbformat": 4,
  "nbformat_minor": 0,
  "metadata": {
    "colab": {
      "provenance": []
    },
    "kernelspec": {
      "name": "python3",
      "display_name": "Python 3"
    },
    "language_info": {
      "name": "python"
    }
  },
  "cells": [
    {
      "cell_type": "code",
      "execution_count": 3,
      "metadata": {
        "colab": {
          "base_uri": "https://localhost:8080/"
        },
        "id": "gAeZoPzKhcna",
        "outputId": "96cf97bb-fe17-424a-b9cd-509e2601563c"
      },
      "outputs": [
        {
          "output_type": "stream",
          "name": "stdout",
          "text": [
            "[ 9  6 16 17 10 10 16  7 18  3  9  7 16  6  3]\n",
            "[[ 9  6 16 17 10]\n",
            " [10 16  7 18  3]\n",
            " [ 9  7 16  6  3]]\n",
            "(3, 5)\n",
            "[[ 9  6 16  0 10]\n",
            " [10 16  7  0  3]\n",
            " [ 9  7  0  6  3]]\n"
          ]
        }
      ],
      "source": [
        "import numpy as np\n",
        "a1 = np.random.randint(1,20,15)\n",
        "print(a1)\n",
        "a2=np.reshape(a1,(3,5))\n",
        "print(a2)\n",
        "print(a2.shape)\n",
        "max_element = np.amax(a2, axis = 1)\n",
        "max_element = max_element[: , None]\n",
        "a3 = np.where(a2 == max_element, 0, a2)\n",
        "print(a3)"
      ]
    },
    {
      "cell_type": "code",
      "source": [
        "import numpy as np\n",
        "\n",
        "# Create a 2-dimensional array of size 4x3 with 4-byte integer elements\n",
        "array = np.zeros((4, 3), dtype=np.int32)\n",
        "\n",
        "# Print the array\n",
        "print(\"Array:\")\n",
        "print(array)\n",
        "\n",
        "# Print the shape of the array\n",
        "print(\"Shape of the array:\", array.shape)\n",
        "\n",
        "# Print the type of the array\n",
        "print(\"Type of the array:\", type(array))\n",
        "\n",
        "# Print the data type of the array elements\n",
        "print(\"Data type of the array elements:\", array.dtype)\n"
      ],
      "metadata": {
        "colab": {
          "base_uri": "https://localhost:8080/"
        },
        "id": "P2wvPvftXbMg",
        "outputId": "b78b5060-a67e-4b8e-c055-64ee3ec80b51"
      },
      "execution_count": 1,
      "outputs": [
        {
          "output_type": "stream",
          "name": "stdout",
          "text": [
            "Array:\n",
            "[[0 0 0]\n",
            " [0 0 0]\n",
            " [0 0 0]\n",
            " [0 0 0]]\n",
            "Shape of the array: (4, 3)\n",
            "Type of the array: <class 'numpy.ndarray'>\n",
            "Data type of the array elements: int32\n"
          ]
        }
      ]
    },
    {
      "cell_type": "code",
      "source": [
        "import numpy as np\n",
        "\n",
        "# Define the square matrix\n",
        "matrix = np.array([[3, -2], [1, 0]])\n",
        "\n",
        "# Compute the eigenvalues and eigenvectors\n",
        "eigenvalues, eigenvectors = np.linalg.eig(matrix)\n",
        "\n",
        "# Print the results\n",
        "print(\"Eigenvalues:\")\n",
        "print(eigenvalues)\n",
        "print(\"\\nEigenvectors:\")\n",
        "print(eigenvectors)\n"
      ],
      "metadata": {
        "colab": {
          "base_uri": "https://localhost:8080/"
        },
        "id": "umoppXJ1jGXY",
        "outputId": "a801d120-cf14-47cb-f860-fedfb350e469"
      },
      "execution_count": 4,
      "outputs": [
        {
          "output_type": "stream",
          "name": "stdout",
          "text": [
            "Eigenvalues:\n",
            "[2. 1.]\n",
            "\n",
            "Eigenvectors:\n",
            "[[0.89442719 0.70710678]\n",
            " [0.4472136  0.70710678]]\n"
          ]
        }
      ]
    },
    {
      "cell_type": "code",
      "source": [
        "import numpy as np\n",
        "\n",
        "# Define the array\n",
        "array = np.array([[0, 1, 2], [3, 4, 5]])\n",
        "\n",
        "# Find the minimum dimension to handle non-square matrices\n",
        "min_dim = min(array.shape)\n",
        "\n",
        "# Compute the sum of the diagonal elements\n",
        "diagonal_sum = np.sum([array[i, i] for i in range(min_dim)])\n",
        "\n",
        "# Print the result\n",
        "print(\"Sum of diagonal elements:\", diagonal_sum)\n"
      ],
      "metadata": {
        "colab": {
          "base_uri": "https://localhost:8080/"
        },
        "id": "NmjcEiSckoXi",
        "outputId": "6d3b6a6b-f22b-4a9d-8d71-c5892d164492"
      },
      "execution_count": 5,
      "outputs": [
        {
          "output_type": "stream",
          "name": "stdout",
          "text": [
            "Sum of diagonal elements: 4\n"
          ]
        }
      ]
    },
    {
      "cell_type": "code",
      "source": [
        "import numpy as np\n",
        "\n",
        "# Define the original array\n",
        "original_array = np.array([[1, 2], [3, 4], [5, 6]])\n",
        "\n",
        "# Print the original array and its shape\n",
        "print(\"Original array:\")\n",
        "print(original_array)\n",
        "print(\"Shape of original array:\", original_array.shape)\n",
        "\n",
        "# Reshape the array to a new shape (2, 3)\n",
        "new_shape = (2, 3)\n",
        "reshaped_array = original_array.reshape(new_shape)\n",
        "\n",
        "# Print the reshaped array and its new shape\n",
        "print(\"\\nReshaped array:\")\n",
        "print(reshaped_array)\n",
        "print(\"Shape of reshaped array:\", reshaped_array.shape)\n"
      ],
      "metadata": {
        "colab": {
          "base_uri": "https://localhost:8080/"
        },
        "id": "2E-ZaFYemKN5",
        "outputId": "0031636b-1d17-4fc2-ccb2-c87281399acd"
      },
      "execution_count": 6,
      "outputs": [
        {
          "output_type": "stream",
          "name": "stdout",
          "text": [
            "Original array:\n",
            "[[1 2]\n",
            " [3 4]\n",
            " [5 6]]\n",
            "Shape of original array: (3, 2)\n",
            "\n",
            "Reshaped array:\n",
            "[[1 2 3]\n",
            " [4 5 6]]\n",
            "Shape of reshaped array: (2, 3)\n"
          ]
        }
      ]
    }
  ]
}